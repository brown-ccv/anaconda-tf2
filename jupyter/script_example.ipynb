{
 "cells": [
  {
   "cell_type": "code",
   "execution_count": 1,
   "metadata": {},
   "outputs": [
    {
     "name": "stdout",
     "output_type": "stream",
     "text": [
      "class\n",
      "CB    72\n",
      "UT    66\n",
      "dtype: int64\n",
      "                           filename class\n",
      "0    D:\\work\\48h_output\\max/187.png    UT\n",
      "1    D:\\work\\48h_output\\max/012.png    CB\n",
      "2    D:\\work\\48h_output\\max/009.png    CB\n",
      "3    D:\\work\\48h_output\\max/182.png    UT\n",
      "4    D:\\work\\48h_output\\max/029.png    CB\n",
      "..                              ...   ...\n",
      "133  D:\\work\\48h_output\\max/071.png    CB\n",
      "134  D:\\work\\48h_output\\max/174.png    UT\n",
      "135  D:\\work\\48h_output\\max/014.png    CB\n",
      "136  D:\\work\\48h_output\\max/160.png    UT\n",
      "137  D:\\work\\48h_output\\max/170.png    UT\n",
      "\n",
      "[138 rows x 2 columns]\n",
      "class\n",
      "CB    7\n",
      "UT    9\n",
      "dtype: int64\n",
      "                          filename class\n",
      "0   D:\\work\\48h_output\\max/015.png    CB\n",
      "1   D:\\work\\48h_output\\max/162.png    UT\n",
      "2   D:\\work\\48h_output\\max/220.png    UT\n",
      "3   D:\\work\\48h_output\\max/173.png    UT\n",
      "4   D:\\work\\48h_output\\max/177.png    UT\n",
      "5   D:\\work\\48h_output\\max/065.png    CB\n",
      "6   D:\\work\\48h_output\\max/018.png    CB\n",
      "7   D:\\work\\48h_output\\max/045.png    CB\n",
      "8   D:\\work\\48h_output\\max/036.png    CB\n",
      "9   D:\\work\\48h_output\\max/055.png    CB\n",
      "10  D:\\work\\48h_output\\max/153.png    UT\n",
      "11  D:\\work\\48h_output\\max/210.png    UT\n",
      "12  D:\\work\\48h_output\\max/019.png    CB\n",
      "13  D:\\work\\48h_output\\max/215.png    UT\n",
      "14  D:\\work\\48h_output\\max/154.png    UT\n",
      "15  D:\\work\\48h_output\\max/161.png    UT\n",
      "Found 97 validated image filenames belonging to 2 classes.\n",
      "Found 41 validated image filenames belonging to 2 classes.\n",
      "Found 16 validated image filenames belonging to 2 classes.\n",
      "Train for 6 steps, validate for 2 steps\n",
      "6/6 [==============================] - 14s 2s/step - loss: 1.0842 - accuracy: 0.5309 - val_loss: 0.6928 - val_accuracy: 0.6250\n",
      "{'CB': 0, 'UT': 1}\n",
      "D:\\work\\48h_output\\max/015.png - CB - [0.4966058] - pred: CB\n",
      "D:\\work\\48h_output\\max/162.png - UT - [0.4986778] - pred: CB\n",
      "D:\\work\\48h_output\\max/220.png - UT - [0.49780637] - pred: CB\n",
      "D:\\work\\48h_output\\max/173.png - UT - [0.5016429] - pred: UT\n",
      "D:\\work\\48h_output\\max/177.png - UT - [0.495846] - pred: CB\n",
      "D:\\work\\48h_output\\max/065.png - CB - [0.49486703] - pred: CB\n",
      "D:\\work\\48h_output\\max/018.png - CB - [0.49831238] - pred: CB\n",
      "D:\\work\\48h_output\\max/045.png - CB - [0.5006816] - pred: UT\n",
      "D:\\work\\48h_output\\max/036.png - CB - [0.4982405] - pred: CB\n",
      "D:\\work\\48h_output\\max/055.png - CB - [0.50202024] - pred: UT\n",
      "D:\\work\\48h_output\\max/153.png - UT - [0.4983359] - pred: CB\n",
      "D:\\work\\48h_output\\max/210.png - UT - [0.49936548] - pred: CB\n",
      "D:\\work\\48h_output\\max/019.png - CB - [0.49699888] - pred: CB\n",
      "D:\\work\\48h_output\\max/215.png - UT - [0.49451888] - pred: CB\n",
      "D:\\work\\48h_output\\max/154.png - UT - [0.50217015] - pred: UT\n",
      "D:\\work\\48h_output\\max/161.png - UT - [0.49957898] - pred: CB\n"
     ]
    }
   ],
   "source": [
    "import importlib\n",
    "from datagenerator import datagenerator\n",
    "import output\n",
    "import training\n",
    "\n",
    "#import cnnmodel implementation \n",
    "cnnmodel = importlib.import_module('example.cnnmodel_example')\n",
    "\n",
    "#create model\n",
    "model = cnnmodel.cnnmodel_impl()\n",
	"#build network\n",
	"model.buildNetwork()\n",
	"\n",
    "#load and create imagegenerators\n",
    "data  = datagenerator(model)\n",
    "\n",
    "#Train the network\n",
    "history = training.train(model,data)\n",
    "\n",
    "#output\n",
    "output.save(model)\n",
    "output.plot(history, model)\n",
    "output.predict(model, data)\n",
    "\n",
    "#delete the imagegenerators\n",
    "del data\n",
    "#delete the model\n",
    "del model"
   ]
  },
  {
   "cell_type": "code",
   "execution_count": null,
   "metadata": {},
   "outputs": [],
   "source": []
  },
  {
   "cell_type": "code",
   "execution_count": null,
   "metadata": {},
   "outputs": [],
   "source": []
  },
  {
   "cell_type": "code",
   "execution_count": null,
   "metadata": {},
   "outputs": [],
   "source": []
  },
  {
   "cell_type": "code",
   "execution_count": null,
   "metadata": {},
   "outputs": [],
   "source": []
  },
  {
   "cell_type": "code",
   "execution_count": null,
   "metadata": {},
   "outputs": [],
   "source": []
  },
  {
   "cell_type": "code",
   "execution_count": null,
   "metadata": {},
   "outputs": [],
   "source": []
  },
  {
   "cell_type": "code",
   "execution_count": null,
   "metadata": {},
   "outputs": [],
   "source": []
  },
  {
   "cell_type": "code",
   "execution_count": null,
   "metadata": {},
   "outputs": [],
   "source": []
  }
 ],
 "metadata": {
  "kernelspec": {
   "display_name": "Python 3",
   "language": "python",
   "name": "python3"
  },
  "language_info": {
   "codemirror_mode": {
    "name": "ipython",
    "version": 3
   },
   "file_extension": ".py",
   "mimetype": "text/x-python",
   "name": "python",
   "nbconvert_exporter": "python",
   "pygments_lexer": "ipython3",
   "version": "3.6.10"
  }
 },
 "nbformat": 4,
 "nbformat_minor": 2
}
